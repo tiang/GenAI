{
 "cells": [
  {
   "cell_type": "code",
   "execution_count": 7,
   "metadata": {},
   "outputs": [
    {
     "name": "stdout",
     "output_type": "stream",
     "text": [
      "Requirement already satisfied: langchain in /Users/tiang/dev/genai/.venv/lib/python3.9/site-packages (0.0.162)\n",
      "Requirement already satisfied: PyYAML>=5.4.1 in /Users/tiang/dev/genai/.venv/lib/python3.9/site-packages (from langchain) (6.0)\n",
      "Requirement already satisfied: SQLAlchemy<3,>=1.4 in /Users/tiang/dev/genai/.venv/lib/python3.9/site-packages (from langchain) (2.0.16)\n",
      "Requirement already satisfied: aiohttp<4.0.0,>=3.8.3 in /Users/tiang/dev/genai/.venv/lib/python3.9/site-packages (from langchain) (3.8.4)\n",
      "Requirement already satisfied: async-timeout<5.0.0,>=4.0.0 in /Users/tiang/dev/genai/.venv/lib/python3.9/site-packages (from langchain) (4.0.2)\n",
      "Requirement already satisfied: dataclasses-json<0.6.0,>=0.5.7 in /Users/tiang/dev/genai/.venv/lib/python3.9/site-packages (from langchain) (0.5.8)\n",
      "Requirement already satisfied: numexpr<3.0.0,>=2.8.4 in /Users/tiang/dev/genai/.venv/lib/python3.9/site-packages (from langchain) (2.8.4)\n",
      "Requirement already satisfied: numpy<2,>=1 in /Users/tiang/dev/genai/.venv/lib/python3.9/site-packages (from langchain) (1.24.3)\n",
      "Requirement already satisfied: openapi-schema-pydantic<2.0,>=1.2 in /Users/tiang/dev/genai/.venv/lib/python3.9/site-packages (from langchain) (1.2.4)\n",
      "Requirement already satisfied: pydantic<2,>=1 in /Users/tiang/dev/genai/.venv/lib/python3.9/site-packages (from langchain) (1.10.9)\n",
      "Requirement already satisfied: requests<3,>=2 in /Users/tiang/dev/genai/.venv/lib/python3.9/site-packages (from langchain) (2.31.0)\n",
      "Requirement already satisfied: tenacity<9.0.0,>=8.1.0 in /Users/tiang/dev/genai/.venv/lib/python3.9/site-packages (from langchain) (8.2.2)\n",
      "Requirement already satisfied: tqdm>=4.48.0 in /Users/tiang/dev/genai/.venv/lib/python3.9/site-packages (from langchain) (4.65.0)\n",
      "Requirement already satisfied: attrs>=17.3.0 in /Users/tiang/dev/genai/.venv/lib/python3.9/site-packages (from aiohttp<4.0.0,>=3.8.3->langchain) (23.1.0)\n",
      "Requirement already satisfied: charset-normalizer<4.0,>=2.0 in /Users/tiang/dev/genai/.venv/lib/python3.9/site-packages (from aiohttp<4.0.0,>=3.8.3->langchain) (3.1.0)\n",
      "Requirement already satisfied: multidict<7.0,>=4.5 in /Users/tiang/dev/genai/.venv/lib/python3.9/site-packages (from aiohttp<4.0.0,>=3.8.3->langchain) (6.0.4)\n",
      "Requirement already satisfied: yarl<2.0,>=1.0 in /Users/tiang/dev/genai/.venv/lib/python3.9/site-packages (from aiohttp<4.0.0,>=3.8.3->langchain) (1.9.2)\n",
      "Requirement already satisfied: frozenlist>=1.1.1 in /Users/tiang/dev/genai/.venv/lib/python3.9/site-packages (from aiohttp<4.0.0,>=3.8.3->langchain) (1.3.3)\n",
      "Requirement already satisfied: aiosignal>=1.1.2 in /Users/tiang/dev/genai/.venv/lib/python3.9/site-packages (from aiohttp<4.0.0,>=3.8.3->langchain) (1.3.1)\n",
      "Requirement already satisfied: marshmallow<4.0.0,>=3.3.0 in /Users/tiang/dev/genai/.venv/lib/python3.9/site-packages (from dataclasses-json<0.6.0,>=0.5.7->langchain) (3.19.0)\n",
      "Requirement already satisfied: marshmallow-enum<2.0.0,>=1.5.1 in /Users/tiang/dev/genai/.venv/lib/python3.9/site-packages (from dataclasses-json<0.6.0,>=0.5.7->langchain) (1.5.1)\n",
      "Requirement already satisfied: typing-inspect>=0.4.0 in /Users/tiang/dev/genai/.venv/lib/python3.9/site-packages (from dataclasses-json<0.6.0,>=0.5.7->langchain) (0.8.0)\n",
      "Requirement already satisfied: typing-extensions>=4.2.0 in /Users/tiang/dev/genai/.venv/lib/python3.9/site-packages (from pydantic<2,>=1->langchain) (4.6.3)\n",
      "Requirement already satisfied: idna<4,>=2.5 in /Users/tiang/dev/genai/.venv/lib/python3.9/site-packages (from requests<3,>=2->langchain) (3.4)\n",
      "Requirement already satisfied: urllib3<3,>=1.21.1 in /Users/tiang/dev/genai/.venv/lib/python3.9/site-packages (from requests<3,>=2->langchain) (2.0.3)\n",
      "Requirement already satisfied: certifi>=2017.4.17 in /Users/tiang/dev/genai/.venv/lib/python3.9/site-packages (from requests<3,>=2->langchain) (2023.5.7)\n",
      "Requirement already satisfied: packaging>=17.0 in /Users/tiang/dev/genai/.venv/lib/python3.9/site-packages (from marshmallow<4.0.0,>=3.3.0->dataclasses-json<0.6.0,>=0.5.7->langchain) (23.1)\n",
      "Requirement already satisfied: mypy-extensions>=0.3.0 in /Users/tiang/dev/genai/.venv/lib/python3.9/site-packages (from typing-inspect>=0.4.0->dataclasses-json<0.6.0,>=0.5.7->langchain) (1.0.0)\n",
      "{'text': 'Madam Speaker, Madam Vice President, our First Lady and Second Gentleman. Members of Congress and the Cabinet. Justices of the Supreme Court. My fellow Americans.  \\n\\nLast year COVID-19 kept us apart. This year we are finally together again. \\n\\nTonight, we meet as Democrats Republicans and Independents. But most importantly as Americans. \\n\\nWith a duty to one another to the American people to the Constitution. \\n\\nAnd with an unwavering resolve that freedom will always triumph over tyranny. \\n\\nSix days ago, Russia’s Vladimir Putin sought to shake the foundations of the free world thinking he could make it bend to his menacing ways. But he badly miscalculated. \\n\\nHe thought he could roll into Ukraine and the world would roll over. Instead he met a wall of strength he never imagined. \\n\\nHe met the Ukrainian people. \\n\\nFrom President Zelenskyy to every Ukrainian, their fearlessness, their courage, their determination, inspires the world.', 'source': '../data/state_of_the_union.txt'}\n"
     ]
    },
    {
     "name": "stderr",
     "output_type": "stream",
     "text": [
      "/Users/tiang/dev/genai/.venv/lib/python3.9/site-packages/weaviate/data/crud_data.py:533: DeprecationWarning: Weaviate Server version >= 1.14.x STRONGLY recommends using class namespaced APIs, please specify the `class_name` argument for this. The non-class namespaced APIs (None value for `class_name`) are going to be removed in the future versions of the Weaviate Server and Weaviate Python Client.\n",
      "  warnings.warn(\n"
     ]
    },
    {
     "data": {
      "text/plain": [
       "{'class': 'MyOwnClass',\n",
       " 'creationTimeUnix': 1687435939620,\n",
       " 'id': 'e4903726-17cc-4211-ab1b-35d124701953',\n",
       " 'lastUpdateTimeUnix': 1687435939620,\n",
       " 'properties': {'source': '../data/state_of_the_union.txt',\n",
       "  'text': 'Madam Speaker, Madam Vice President, our First Lady and Second Gentleman. Members of Congress and the Cabinet. Justices of the Supreme Court. My fellow Americans.  \\n\\nLast year COVID-19 kept us apart. This year we are finally together again. \\n\\nTonight, we meet as Democrats Republicans and Independents. But most importantly as Americans. \\n\\nWith a duty to one another to the American people to the Constitution. \\n\\nAnd with an unwavering resolve that freedom will always triumph over tyranny. \\n\\nSix days ago, Russia’s Vladimir Putin sought to shake the foundations of the free world thinking he could make it bend to his menacing ways. But he badly miscalculated. \\n\\nHe thought he could roll into Ukraine and the world would roll over. Instead he met a wall of strength he never imagined. \\n\\nHe met the Ukrainian people. \\n\\nFrom President Zelenskyy to every Ukrainian, their fearlessness, their courage, their determination, inspires the world.'},\n",
       " 'vectorWeights': None}"
      ]
     },
     "execution_count": 7,
     "metadata": {},
     "output_type": "execute_result"
    }
   ],
   "source": [
    "! pip install langchain\n",
    "import os\n",
    "\n",
    "OPENAI_API_KEY = os.getenv('OPENAI_API_KEY') or ''\n",
    "OPENAI_API_BASE = os.getenv('OPENAI_API_BASE') or 'https://fintechx-oai-eus.openai.azure.com/'\n",
    "WEAVIATE_URL = os.getenv('WEAVIATE_URL') or 'http://localhost:8080'\n",
    "\n",
    "## Import data from file\n",
    "\n",
    "# Load data from file and split file into right-sized chunks \n",
    "# for embeddings processing\n",
    "\n",
    "from langchain.text_splitter import CharacterTextSplitter\n",
    "from langchain.document_loaders import TextLoader\n",
    "\n",
    "loader = TextLoader(\"../data/state_of_the_union.txt\")\n",
    "documents = loader.load()\n",
    "text_splitter = CharacterTextSplitter(chunk_size=1000, chunk_overlap=0)\n",
    "docs = text_splitter.split_documents(documents)\n",
    "\n",
    "\n",
    "## create Embeddings reference to OpenAI Embeddings API \n",
    "\n",
    "from langchain.embeddings.openai import OpenAIEmbeddings\n",
    "from langchain.text_splitter import CharacterTextSplitter\n",
    "from langchain.vectorstores import Weaviate\n",
    "\n",
    "model_name = 'text-embedding-ada-002'\n",
    "\n",
    "embeddings = OpenAIEmbeddings(\n",
    "    deployment=\"embeddings\",\n",
    "    model=model_name,\n",
    "    openai_api_base='https://fintechx-oai-eus.openai.azure.com/',\n",
    "    openai_api_type=\"azure\",\n",
    "    openai_api_key=\"1108a83ade0d421488d061b3dc01439b\",\n",
    ")\n",
    "\n",
    "## create weaviate vector store\n",
    "\n",
    "import weaviate\n",
    "\n",
    "# print(len(docs))\n",
    "# # print(docs[0])\n",
    "# print(f'connecting to {WEAVIATE_URL}')\n",
    "\n",
    "client= weaviate.Client(url=WEAVIATE_URL)\n",
    "weaviate = Weaviate(client, 'MyOwnClass', 'text', embeddings)\n",
    "\n",
    "# print(docs[0].metadata['source'])\n",
    "\n",
    "properties = {\n",
    "    \"text\": docs[0].page_content,\n",
    "    \"source\": docs[0].metadata['source']\n",
    "}\n",
    "\n",
    "print(properties)\n",
    "new_record_uuid = client.batch.add_data_object(properties, \"MyOwnClass\")\n",
    "client.batch.flush()\n",
    "client.data_object.get(new_record_uuid)\n"
   ]
  },
  {
   "cell_type": "code",
   "execution_count": 6,
   "metadata": {},
   "outputs": [
    {
     "name": "stderr",
     "output_type": "stream",
     "text": [
      "/Users/tiang/dev/genai/.venv/lib/python3.9/site-packages/weaviate/data/crud_data.py:533: DeprecationWarning: Weaviate Server version >= 1.14.x STRONGLY recommends using class namespaced APIs, please specify the `class_name` argument for this. The non-class namespaced APIs (None value for `class_name`) are going to be removed in the future versions of the Weaviate Server and Weaviate Python Client.\n",
      "  warnings.warn(\n"
     ]
    },
    {
     "data": {
      "text/plain": [
       "{'class': 'MyOwnClass',\n",
       " 'creationTimeUnix': 1687435812008,\n",
       " 'id': '0b657cda-7703-4d30-a034-9f993f1fa4d7',\n",
       " 'lastUpdateTimeUnix': 1687435812008,\n",
       " 'properties': {'source': '../data/state_of_the_union.txt',\n",
       "  'text': 'Madam Speaker, Madam Vice President, our First Lady and Second Gentleman. Members of Congress and the Cabinet. Justices of the Supreme Court. My fellow Americans.  \\n\\nLast year COVID-19 kept us apart. This year we are finally together again. \\n\\nTonight, we meet as Democrats Republicans and Independents. But most importantly as Americans. \\n\\nWith a duty to one another to the American people to the Constitution. \\n\\nAnd with an unwavering resolve that freedom will always triumph over tyranny. \\n\\nSix days ago, Russia’s Vladimir Putin sought to shake the foundations of the free world thinking he could make it bend to his menacing ways. But he badly miscalculated. \\n\\nHe thought he could roll into Ukraine and the world would roll over. Instead he met a wall of strength he never imagined. \\n\\nHe met the Ukrainian people. \\n\\nFrom President Zelenskyy to every Ukrainian, their fearlessness, their courage, their determination, inspires the world.'},\n",
       " 'vectorWeights': None}"
      ]
     },
     "execution_count": 6,
     "metadata": {},
     "output_type": "execute_result"
    }
   ],
   "source": [
    "## Clear database\n",
    "\n",
    "import weaviate, os\n",
    "\n",
    "WEAVIATE_URL = os.getenv('WEAVIATE_URL') or 'http://localhost:8080'\n",
    "\n",
    "\n",
    "client = weaviate.Client(\n",
    "    url=WEAVIATE_URL,  \n",
    "    # auth_client_secret=weaviate.AuthApiKey(api_key=\"YOUR-WEAVIATE-API-KEY\"),  # Replace w/ your Weaviate instance API key\n",
    "    additional_headers={\n",
    "        \"X-OpenAI-Api-Key\": \"\",\n",
    "    },\n",
    ")\n",
    "\n",
    "client.schema.delete_all()  # ⚠️ uncomment to start from scratch by deleting ALL data\n",
    "\n",
    "\n",
    "\n",
    "\n",
    "\n"
   ]
  },
  {
   "cell_type": "code",
   "execution_count": null,
   "metadata": {},
   "outputs": [],
   "source": []
  }
 ],
 "metadata": {
  "kernelspec": {
   "display_name": ".venv",
   "language": "python",
   "name": "python3"
  },
  "language_info": {
   "codemirror_mode": {
    "name": "ipython",
    "version": 3
   },
   "file_extension": ".py",
   "mimetype": "text/x-python",
   "name": "python",
   "nbconvert_exporter": "python",
   "pygments_lexer": "ipython3",
   "version": "3.9.6"
  },
  "orig_nbformat": 4
 },
 "nbformat": 4,
 "nbformat_minor": 2
}
