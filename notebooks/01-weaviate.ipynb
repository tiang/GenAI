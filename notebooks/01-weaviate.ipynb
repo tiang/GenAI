{
 "cells": [
  {
   "cell_type": "markdown",
   "metadata": {},
   "source": [
    "# Using a Vector database \n",
    "Source of notebook implementation comes from: [Langchain Tutorial](https://python.langchain.com/docs/modules/data_connection/vectorstores/integrations/weaviate)\n",
    "\n",
    "## Setting up and using a local vector database\n",
    "\n",
    "Weaviate is an open-source vector database. It allows you to store data objects and vector embeddings from your favorite ML-models, and scale seamlessly into billions of data objects.\n",
    "\n",
    "This notebook shows how to use functionality related to the Weaviate vector database.\n",
    "\n",
    "There are two example in this notebook. It populates two database 'tables', one with content from a speech, and the second table is empty.  We then run the query across both tables and can see how the results come back.\n",
    "\n"
   ]
  },
  {
   "attachments": {},
   "cell_type": "markdown",
   "metadata": {},
   "source": [
    "### Set up your environment and start the docker infrastructure\n",
    "\n",
    "You can overwrite the default environment variables in this cell.\n",
    "\n",
    "To run the docker image, open a terminal window and run\n",
    "\n",
    "```sh\n",
    "docker-compose up -d && docker-compose logs -f\n",
    "```"
   ]
  },
  {
   "cell_type": "code",
   "execution_count": 36,
   "metadata": {},
   "outputs": [],
   "source": [
    "# Setup Azure OpenAI environment variables.\n",
    "# ADD YOUR API KEY HERE if this has not been set in your environment.\n",
    "# CHANGE API BASE if you are not using the FinTechX Azure OpenAI API endpoint.\n",
    "\n",
    "\n",
    "from os import getenv\n",
    "\n",
    "AZURE_OPENAI_API_KEY = getenv(\"AZURE_OPENAI_API_KEY\") or '' #Your API Key\n",
    "AZURE_OPENAI_API_BASE = getenv(\"AZURE_OPENAI_API_BASE\") or 'https://fintechx-oai-eus.openai.azure.com/' \n",
    "AZURE_OPENAI_API_VERSION = getenv(\"AZURE_OPENAI_API_VERSION\") or '2023-03-15-preview'\n",
    "AZURE_OPENAI_API_TYPE = getenv(\"AZURE_OPENAI_API_TYPE\") or '\"azure\"'\n",
    "AZURE_OPENAI_DEPLOYMENT_DAVINCI = getenv(\"AZURE_OPENAI_DEPLOYMENT_DAVINCI\") or 'davinci'\n",
    "AZURE_OPENAI_DEPLOYMENT_EMBEDDINGS = getenv(\"AZURE_OPENAI_DEPLOYMENT_EMBEDDINGS\") or 'embeddings'\n",
    "AZURE_OPENAI_MODEL_NAME_EMBEDDINGS = getenv(\"AZURE_OPENAI_MODEL_NAME_EMBEDDINGS\") or 'text-embedding-ada-002'\n",
    "\n",
    "# configure weaviate client\n",
    "WEAVIATE_URL = getenv('WEAVIATE_URL') or 'http://localhost:8080'\n"
   ]
  },
  {
   "cell_type": "code",
   "execution_count": 37,
   "metadata": {},
   "outputs": [
    {
     "name": "stdout",
     "output_type": "stream",
     "text": [
      "Requirement already satisfied: weaviate-client in /Users/tiang/dev/genai/.venv/lib/python3.9/site-packages (3.21.0)\n",
      "Requirement already satisfied: requests<=2.31.0,>=2.28.0 in /Users/tiang/dev/genai/.venv/lib/python3.9/site-packages (from weaviate-client) (2.31.0)\n",
      "Requirement already satisfied: validators<=0.21.0,>=0.18.2 in /Users/tiang/dev/genai/.venv/lib/python3.9/site-packages (from weaviate-client) (0.20.0)\n",
      "Requirement already satisfied: tqdm<5.0.0,>=4.59.0 in /Users/tiang/dev/genai/.venv/lib/python3.9/site-packages (from weaviate-client) (4.65.0)\n",
      "Requirement already satisfied: authlib>=1.1.0 in /Users/tiang/dev/genai/.venv/lib/python3.9/site-packages (from weaviate-client) (1.2.0)\n",
      "Requirement already satisfied: cryptography>=3.2 in /Users/tiang/dev/genai/.venv/lib/python3.9/site-packages (from authlib>=1.1.0->weaviate-client) (41.0.1)\n",
      "Requirement already satisfied: charset-normalizer<4,>=2 in /Users/tiang/dev/genai/.venv/lib/python3.9/site-packages (from requests<=2.31.0,>=2.28.0->weaviate-client) (3.1.0)\n",
      "Requirement already satisfied: idna<4,>=2.5 in /Users/tiang/dev/genai/.venv/lib/python3.9/site-packages (from requests<=2.31.0,>=2.28.0->weaviate-client) (3.4)\n",
      "Requirement already satisfied: urllib3<3,>=1.21.1 in /Users/tiang/dev/genai/.venv/lib/python3.9/site-packages (from requests<=2.31.0,>=2.28.0->weaviate-client) (1.26.16)\n",
      "Requirement already satisfied: certifi>=2017.4.17 in /Users/tiang/dev/genai/.venv/lib/python3.9/site-packages (from requests<=2.31.0,>=2.28.0->weaviate-client) (2023.5.7)\n",
      "Requirement already satisfied: decorator>=3.4.0 in /Users/tiang/dev/genai/.venv/lib/python3.9/site-packages (from validators<=0.21.0,>=0.18.2->weaviate-client) (5.1.1)\n",
      "Requirement already satisfied: cffi>=1.12 in /Users/tiang/dev/genai/.venv/lib/python3.9/site-packages (from cryptography>=3.2->authlib>=1.1.0->weaviate-client) (1.15.1)\n",
      "Requirement already satisfied: pycparser in /Users/tiang/dev/genai/.venv/lib/python3.9/site-packages (from cffi>=1.12->cryptography>=3.2->authlib>=1.1.0->weaviate-client) (2.21)\n"
     ]
    }
   ],
   "source": [
    "# install the weaviate client python package\n",
    "\n",
    "! pip install weaviate-client"
   ]
  },
  {
   "cell_type": "code",
   "execution_count": 38,
   "metadata": {},
   "outputs": [],
   "source": [
    "# configure client with weaviate api keys\n",
    "\n",
    "from langchain.embeddings.openai import OpenAIEmbeddings\n",
    "\n",
    "embeddings = OpenAIEmbeddings(\n",
    "    deployment=AZURE_OPENAI_DEPLOYMENT_EMBEDDINGS,\n",
    "    model=AZURE_OPENAI_MODEL_NAME_EMBEDDINGS,\n",
    "    openai_api_base=AZURE_OPENAI_API_BASE,\n",
    "    openai_api_type=AZURE_OPENAI_API_TYPE,\n",
    "    openai_api_key=AZURE_OPENAI_API_KEY,\n",
    ")\n"
   ]
  },
  {
   "cell_type": "code",
   "execution_count": 56,
   "metadata": {},
   "outputs": [
    {
     "name": "stdout",
     "output_type": "stream",
     "text": [
      "Number of records created from the document: 42\n",
      "Number of records created from the document: 1\n"
     ]
    }
   ],
   "source": [
    "# Load data from file and split file into right-sized chunks \n",
    "# for embeddings processing\n",
    "\n",
    "from langchain.document_loaders import TextLoader\n",
    "from langchain.text_splitter import CharacterTextSplitter\n",
    "\n",
    "text_splitter = CharacterTextSplitter(chunk_size=1000, chunk_overlap=0)\n",
    "\n",
    "loader = TextLoader(\"./data/state_of_the_union.txt\")\n",
    "documents = loader.load()\n",
    "docs = text_splitter.split_documents(documents)\n",
    "\n",
    "empty_loader = TextLoader(\"./data/empty.txt\")\n",
    "empty_documents = empty_loader.load()\n",
    "empty_docs = text_splitter.split_documents(empty_documents)\n",
    "\n",
    "\n",
    "print(f'Number of records created from the document: {len(docs)}')\n",
    "print(f'Number of records created from the document: {len(empty_docs)}')"
   ]
  },
  {
   "cell_type": "code",
   "execution_count": 40,
   "metadata": {},
   "outputs": [
    {
     "name": "stdout",
     "output_type": "stream",
     "text": [
      "connecting to http://localhost:8080\n"
     ]
    }
   ],
   "source": [
    "# create weaviate vector store\n",
    "\n",
    "from langchain.vectorstores import Weaviate\n",
    "\n",
    "print(f'connecting to {WEAVIATE_URL}')\n",
    "\n",
    "for doc in docs:\n",
    "    # print(doc)\n",
    "    # from_documments expects an array as it's first argument, so we need to wrap the doc in an array\n",
    "    db_StateOfTheUnion_index = Weaviate.from_documents(\n",
    "        [doc], \n",
    "        embeddings, \n",
    "        weaviate_url=WEAVIATE_URL,\n",
    "        index_name='StateOfTheUnionIndex',\n",
    "        by_text=False\n",
    "    )\n"
   ]
  },
  {
   "cell_type": "code",
   "execution_count": 58,
   "metadata": {},
   "outputs": [],
   "source": [
    "for doc in empty_docs:\n",
    "    db_empty_index = Weaviate.from_documents(\n",
    "        [doc], \n",
    "        embeddings, \n",
    "        weaviate_url=WEAVIATE_URL,\n",
    "        index_name='EmptyIndex',\n",
    "        by_text=False\n",
    "    )"
   ]
  },
  {
   "attachments": {},
   "cell_type": "markdown",
   "metadata": {},
   "source": []
  },
  {
   "cell_type": "code",
   "execution_count": 62,
   "metadata": {},
   "outputs": [
    {
     "name": "stdout",
     "output_type": "stream",
     "text": [
      "Number of documents found: 4\n",
      "Number of documents found: 4\n",
      "Number of documents found in the empty index: 2\n"
     ]
    }
   ],
   "source": [
    "# Basic queries on weaviate db\n",
    "# the similarity search will return relevant vector database records (\"documents\") \n",
    "# based on the query\n",
    "\n",
    "query = \"What did the president say anti-viral drugs\"\n",
    "documents_found = db_StateOfTheUnion_index.similarity_search(query)\n",
    "print(f'Number of documents found: {len(documents_found)}')\n",
    "# print(documents_found_using_empty_index)\n",
    "\n",
    "documents_found_with_score = db_StateOfTheUnion_index.similarity_search_with_score(query, by_text=False)\n",
    "# print(documents_found_with_score[0])\n",
    "print(f'Number of documents found: {len(documents_found_with_score)}')\n",
    "\n",
    "# running the same query on the empty index\n",
    "documents_found_using_empty_index = db_empty_index.similarity_search(query)\n",
    "print(f'Number of documents found in the empty index: {len(documents_found_using_empty_index)}')\n"
   ]
  },
  {
   "cell_type": "code",
   "execution_count": 67,
   "metadata": {},
   "outputs": [
    {
     "data": {
      "text/plain": [
       "{'question': 'What did the president say anti-viral drugs?',\n",
       " 'answer': ' The president said that they have anti-viral treatments, such as the Pfizer pill, which reduces the chances of ending up in the hospital by 90%, and that they have launched the \"Test to Treat\" initiative so people can get tested at a pharmacy and receive antiviral pills on the spot at no cost.\\n',\n",
       " 'sources': './data/state_of_the_union.txt'}"
      ]
     },
     "execution_count": 67,
     "metadata": {},
     "output_type": "execute_result"
    }
   ],
   "source": [
    "from langchain.chains import RetrievalQAWithSourcesChain\n",
    "from langchain.llms import AzureOpenAI\n",
    "\n",
    "\n",
    "llm = AzureOpenAI(\n",
    "    temperature=0.0,\n",
    "    deployment_name=AZURE_OPENAI_DEPLOYMENT_DAVINCI,\n",
    "    openai_api_base=AZURE_OPENAI_API_BASE,\n",
    "    openai_api_key=AZURE_OPENAI_API_KEY,\n",
    "    best_of=3,\n",
    ")\n",
    "\n",
    "\n",
    "chain_using_SOTU_index = RetrievalQAWithSourcesChain.from_chain_type(\n",
    "    llm, chain_type=\"stuff\", retriever=db_StateOfTheUnion_index.as_retriever()\n",
    ")\n",
    "\n",
    "chain_using_SOTU_index(\n",
    "    {\"question\": \"What did the president say anti-viral drugs?\"},\n",
    "    return_only_outputs=False,\n",
    ")\n"
   ]
  },
  {
   "cell_type": "code",
   "execution_count": 68,
   "metadata": {},
   "outputs": [
    {
     "data": {
      "text/plain": [
       "{'question': 'What did the president say anti-viral drugs?',\n",
       " 'answer': \" I don't know.\\n\",\n",
       " 'sources': './data/empty.txt'}"
      ]
     },
     "execution_count": 68,
     "metadata": {},
     "output_type": "execute_result"
    }
   ],
   "source": [
    "# Running the same query on the empty index in Weaviate\n",
    "\n",
    "chain_using_empty_index = RetrievalQAWithSourcesChain.from_chain_type(\n",
    "    llm, chain_type=\"stuff\", retriever=db_empty_index.as_retriever()\n",
    ")\n",
    "\n",
    "chain_using_empty_index(\n",
    "    {\"question\": \"What did the president say anti-viral drugs?\"},\n",
    "    return_only_outputs=False,\n",
    ")"
   ]
  }
 ],
 "metadata": {
  "kernelspec": {
   "display_name": ".venv",
   "language": "python",
   "name": "python3"
  },
  "language_info": {
   "codemirror_mode": {
    "name": "ipython",
    "version": 3
   },
   "file_extension": ".py",
   "mimetype": "text/x-python",
   "name": "python",
   "nbconvert_exporter": "python",
   "pygments_lexer": "ipython3",
   "version": "3.9.6"
  },
  "orig_nbformat": 4
 },
 "nbformat": 4,
 "nbformat_minor": 2
}